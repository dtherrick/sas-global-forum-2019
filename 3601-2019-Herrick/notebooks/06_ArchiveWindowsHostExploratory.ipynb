{
 "cells": [
  {
   "cell_type": "code",
   "execution_count": 1,
   "metadata": {},
   "outputs": [],
   "source": [
    "import os\n",
    "import pandas as pd\n",
    "import swat\n",
    "from swat.cas import datamsghandlers as dmh"
   ]
  },
  {
   "cell_type": "code",
   "execution_count": 2,
   "metadata": {},
   "outputs": [],
   "source": [
    "os.environ[\"CAS_CLIENT_SSL_CA_LIST\"]=\"/home/ds/cascert.pem\"\n",
    "\n",
    "conn = swat.CAS(\"d-crd-datasci01big.dev.cyber.sas.com\", 5570)"
   ]
  },
  {
   "cell_type": "code",
   "execution_count": 3,
   "metadata": {},
   "outputs": [
    {
     "name": "stdout",
     "output_type": "stream",
     "text": [
      "NOTE: Caslib WH already exists.\n",
      "NOTE: 'WH' is now the active caslib.\n"
     ]
    },
    {
     "name": "stderr",
     "output_type": "stream",
     "text": [
      "ERROR: The action stopped due to errors.\n"
     ]
    },
    {
     "data": {
      "text/html": [
       "<div class=\"cas-output-area\"></div>\n",
       "<p class=\"cas-results-performance\"><small><span class=\"cas-elapsed\">elapsed 0.000515s</span> &#183; <span class=\"cas-sys\">sys 0.000472s</span> &#183; <span class=\"cas-memory\">mem 0.225MB</span></small></p>"
      ],
      "text/plain": [
       "+ Elapsed: 0.000515s, sys: 0.000472s, mem: 0.225mb"
      ]
     },
     "execution_count": 3,
     "metadata": {},
     "output_type": "execute_result"
    }
   ],
   "source": [
    "conn.addcaslib(name='WH', path='/home/datasets/LANL/WH/', \n",
    "               description=\"Windows Host Events\",\n",
    "               session=False)\n",
    "conn.setsessopt(caslib='WH')"
   ]
  },
  {
   "cell_type": "code",
   "execution_count": 4,
   "metadata": {},
   "outputs": [],
   "source": [
    "dfHost = pd.read_csv(\"/home/ds/datasets/WH/wls-day_02_hr13.csv\")\n",
    "dmhHost = dmh.PandasDataFrame(dfHost)\n",
    "out = conn.addtable(table='wls_day_02_hr13', caslib='WH', **dmhHost.args.addtable)"
   ]
  },
  {
   "cell_type": "markdown",
   "metadata": {},
   "source": [
    "After loading the data, we want to do some simple exploration.\n",
    "Let's look for:\n",
    "* column names\n",
    "* Number of empty columns\n",
    "* Number of domains\n",
    "* Number of hosts\n",
    "* Number of logon IDs\n",
    "* Number of processes\n",
    "* Types of events"
   ]
  },
  {
   "cell_type": "code",
   "execution_count": 5,
   "metadata": {},
   "outputs": [],
   "source": [
    "hostData = conn.CASTable('wls_day_02_hr13')"
   ]
  },
  {
   "cell_type": "code",
   "execution_count": 6,
   "metadata": {},
   "outputs": [
    {
     "data": {
      "text/plain": [
       "354738"
      ]
     },
     "execution_count": 6,
     "metadata": {},
     "output_type": "execute_result"
    }
   ],
   "source": [
    "len(hostData)"
   ]
  },
  {
   "cell_type": "code",
   "execution_count": 7,
   "metadata": {},
   "outputs": [
    {
     "data": {
      "text/html": [
       "<div>\n",
       "<style scoped>\n",
       "    .dataframe tbody tr th:only-of-type {\n",
       "        vertical-align: middle;\n",
       "    }\n",
       "\n",
       "    .dataframe tbody tr th {\n",
       "        vertical-align: top;\n",
       "    }\n",
       "\n",
       "    .dataframe thead th {\n",
       "        text-align: right;\n",
       "    }\n",
       "</style>\n",
       "<table border=\"1\" class=\"dataframe\"><caption>Distinct Counts for WLS_DAY_02_HR13</caption>\n",
       "  <thead>\n",
       "    <tr style=\"text-align: right;\">\n",
       "      <th title=\"\"></th>\n",
       "      <th title=\"Analysis Variable\">Column</th>\n",
       "      <th title=\"Number of Distinct Values\">NDistinct</th>\n",
       "      <th title=\"Number of Missing Values\">NMiss</th>\n",
       "      <th title=\"Truncated\">Trunc</th>\n",
       "    </tr>\n",
       "  </thead>\n",
       "  <tbody>\n",
       "    <tr>\n",
       "      <th>0</th>\n",
       "      <td>AuthenticationPackage</td>\n",
       "      <td>6.0</td>\n",
       "      <td>232670.0</td>\n",
       "      <td>0.0</td>\n",
       "    </tr>\n",
       "    <tr>\n",
       "      <th>1</th>\n",
       "      <td>Destination</td>\n",
       "      <td>321.0</td>\n",
       "      <td>349487.0</td>\n",
       "      <td>0.0</td>\n",
       "    </tr>\n",
       "    <tr>\n",
       "      <th>2</th>\n",
       "      <td>DomainName</td>\n",
       "      <td>82.0</td>\n",
       "      <td>14.0</td>\n",
       "      <td>0.0</td>\n",
       "    </tr>\n",
       "    <tr>\n",
       "      <th>3</th>\n",
       "      <td>EventID</td>\n",
       "      <td>18.0</td>\n",
       "      <td>0.0</td>\n",
       "      <td>0.0</td>\n",
       "    </tr>\n",
       "    <tr>\n",
       "      <th>4</th>\n",
       "      <td>FailureReason</td>\n",
       "      <td>7.0</td>\n",
       "      <td>353231.0</td>\n",
       "      <td>0.0</td>\n",
       "    </tr>\n",
       "    <tr>\n",
       "      <th>5</th>\n",
       "      <td>LogHost</td>\n",
       "      <td>9408.0</td>\n",
       "      <td>0.0</td>\n",
       "      <td>0.0</td>\n",
       "    </tr>\n",
       "    <tr>\n",
       "      <th>6</th>\n",
       "      <td>LogonID</td>\n",
       "      <td>198999.0</td>\n",
       "      <td>49030.0</td>\n",
       "      <td>0.0</td>\n",
       "    </tr>\n",
       "    <tr>\n",
       "      <th>7</th>\n",
       "      <td>LogonType</td>\n",
       "      <td>11.0</td>\n",
       "      <td>177367.0</td>\n",
       "      <td>0.0</td>\n",
       "    </tr>\n",
       "    <tr>\n",
       "      <th>8</th>\n",
       "      <td>LogonTypeDescription</td>\n",
       "      <td>11.0</td>\n",
       "      <td>177367.0</td>\n",
       "      <td>0.0</td>\n",
       "    </tr>\n",
       "    <tr>\n",
       "      <th>9</th>\n",
       "      <td>ParentProcessID</td>\n",
       "      <td>4762.0</td>\n",
       "      <td>262043.0</td>\n",
       "      <td>0.0</td>\n",
       "    </tr>\n",
       "    <tr>\n",
       "      <th>10</th>\n",
       "      <td>ParentProcessName</td>\n",
       "      <td>454.0</td>\n",
       "      <td>262043.0</td>\n",
       "      <td>0.0</td>\n",
       "    </tr>\n",
       "    <tr>\n",
       "      <th>11</th>\n",
       "      <td>ProcessID</td>\n",
       "      <td>9219.0</td>\n",
       "      <td>251247.0</td>\n",
       "      <td>0.0</td>\n",
       "    </tr>\n",
       "    <tr>\n",
       "      <th>12</th>\n",
       "      <td>ProcessName</td>\n",
       "      <td>928.0</td>\n",
       "      <td>251247.0</td>\n",
       "      <td>0.0</td>\n",
       "    </tr>\n",
       "    <tr>\n",
       "      <th>13</th>\n",
       "      <td>ServiceName</td>\n",
       "      <td>1506.0</td>\n",
       "      <td>342347.0</td>\n",
       "      <td>0.0</td>\n",
       "    </tr>\n",
       "    <tr>\n",
       "      <th>14</th>\n",
       "      <td>Source</td>\n",
       "      <td>9547.0</td>\n",
       "      <td>237860.0</td>\n",
       "      <td>0.0</td>\n",
       "    </tr>\n",
       "    <tr>\n",
       "      <th>15</th>\n",
       "      <td>Status</td>\n",
       "      <td>7.0</td>\n",
       "      <td>306641.0</td>\n",
       "      <td>0.0</td>\n",
       "    </tr>\n",
       "    <tr>\n",
       "      <th>16</th>\n",
       "      <td>SubjectDomainName</td>\n",
       "      <td>23.0</td>\n",
       "      <td>349256.0</td>\n",
       "      <td>0.0</td>\n",
       "    </tr>\n",
       "    <tr>\n",
       "      <th>17</th>\n",
       "      <td>SubjectLogonID</td>\n",
       "      <td>369.0</td>\n",
       "      <td>349440.0</td>\n",
       "      <td>0.0</td>\n",
       "    </tr>\n",
       "    <tr>\n",
       "      <th>18</th>\n",
       "      <td>SubjectUserName</td>\n",
       "      <td>1390.0</td>\n",
       "      <td>349256.0</td>\n",
       "      <td>0.0</td>\n",
       "    </tr>\n",
       "    <tr>\n",
       "      <th>19</th>\n",
       "      <td>Time</td>\n",
       "      <td>3600.0</td>\n",
       "      <td>0.0</td>\n",
       "      <td>0.0</td>\n",
       "    </tr>\n",
       "    <tr>\n",
       "      <th>20</th>\n",
       "      <td>UserName</td>\n",
       "      <td>17981.0</td>\n",
       "      <td>14.0</td>\n",
       "      <td>0.0</td>\n",
       "    </tr>\n",
       "    <tr>\n",
       "      <th>21</th>\n",
       "      <td>occurredTime</td>\n",
       "      <td>3600.0</td>\n",
       "      <td>0.0</td>\n",
       "      <td>0.0</td>\n",
       "    </tr>\n",
       "  </tbody>\n",
       "</table>\n",
       "</div>"
      ],
      "text/plain": [
       "Distinct Counts for WLS_DAY_02_HR13\n",
       "\n",
       "                   Column  NDistinct     NMiss  Trunc\n",
       "0   AuthenticationPackage        6.0  232670.0    0.0\n",
       "1             Destination      321.0  349487.0    0.0\n",
       "2              DomainName       82.0      14.0    0.0\n",
       "3                 EventID       18.0       0.0    0.0\n",
       "4           FailureReason        7.0  353231.0    0.0\n",
       "5                 LogHost     9408.0       0.0    0.0\n",
       "6                 LogonID   198999.0   49030.0    0.0\n",
       "7               LogonType       11.0  177367.0    0.0\n",
       "8    LogonTypeDescription       11.0  177367.0    0.0\n",
       "9         ParentProcessID     4762.0  262043.0    0.0\n",
       "10      ParentProcessName      454.0  262043.0    0.0\n",
       "11              ProcessID     9219.0  251247.0    0.0\n",
       "12            ProcessName      928.0  251247.0    0.0\n",
       "13            ServiceName     1506.0  342347.0    0.0\n",
       "14                 Source     9547.0  237860.0    0.0\n",
       "15                 Status        7.0  306641.0    0.0\n",
       "16      SubjectDomainName       23.0  349256.0    0.0\n",
       "17         SubjectLogonID      369.0  349440.0    0.0\n",
       "18        SubjectUserName     1390.0  349256.0    0.0\n",
       "19                   Time     3600.0       0.0    0.0\n",
       "20               UserName    17981.0      14.0    0.0\n",
       "21           occurredTime     3600.0       0.0    0.0"
      ]
     },
     "execution_count": 7,
     "metadata": {},
     "output_type": "execute_result"
    }
   ],
   "source": [
    "hostData.distinct()['Distinct']"
   ]
  },
  {
   "cell_type": "code",
   "execution_count": null,
   "metadata": {},
   "outputs": [],
   "source": [
    "hostData.describe()"
   ]
  },
  {
   "cell_type": "code",
   "execution_count": null,
   "metadata": {},
   "outputs": [],
   "source": [
    "compUsers = hostData.UserName.str.endswith('$')"
   ]
  },
  {
   "cell_type": "code",
   "execution_count": null,
   "metadata": {},
   "outputs": [],
   "source": [
    "hostData.DomainName.value_counts()"
   ]
  },
  {
   "cell_type": "code",
   "execution_count": null,
   "metadata": {},
   "outputs": [],
   "source": [
    "hostData.save(name='wls_day_02_hr13.sashdat', caslib='WH')"
   ]
  },
  {
   "cell_type": "code",
   "execution_count": null,
   "metadata": {},
   "outputs": [],
   "source": [
    "conn.close()"
   ]
  },
  {
   "cell_type": "code",
   "execution_count": null,
   "metadata": {},
   "outputs": [],
   "source": []
  }
 ],
 "metadata": {
  "kernelspec": {
   "display_name": "Python 3",
   "language": "python",
   "name": "python3"
  },
  "language_info": {
   "codemirror_mode": {
    "name": "ipython",
    "version": 3
   },
   "file_extension": ".py",
   "mimetype": "text/x-python",
   "name": "python",
   "nbconvert_exporter": "python",
   "pygments_lexer": "ipython3",
   "version": "3.7.2"
  }
 },
 "nbformat": 4,
 "nbformat_minor": 2
}
