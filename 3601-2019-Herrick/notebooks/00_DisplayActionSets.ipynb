{
 "cells": [
  {
   "cell_type": "markdown",
   "metadata": {},
   "source": [
    "### Test CAS Connectivity  \n",
    "\n",
    "Use this notebook as the starting point for working with Python / Viya / CAS.\n",
    "\n",
    "We want to verify the following:\n",
    "* Is our container properly built? \n",
    "    * If yes, then we'll properly import the Python modules we'll use the most (specifically `pandas` and `python-swat`).\n",
    "* Can we connect to a remote CAS server? \n",
    "    * Successful connection verifies that our certificates and authinfo files are properly placed and registered in the container.\n",
    "* What is the current state of the CAS server?\n",
    "    * Demonstrate basic usage of the `python-swat` module, and list the vsrious actionsets available to us for our data science work.\n",
    "    \n",
    "__Damian Herrick__  \n",
    "__SAS Institute__  \n",
    "__[damian.herrick@sas.com](mailto:damian.herrick@sas.com)__  "
   ]
  },
  {
   "cell_type": "code",
   "execution_count": 1,
   "metadata": {},
   "outputs": [],
   "source": [
    "import os\n",
    "import swat\n",
    "import multiprocessing\n",
    "\n",
    "import sascyber\n",
    "\n",
    "import pandas as pd"
   ]
  },
  {
   "cell_type": "code",
   "execution_count": 2,
   "metadata": {},
   "outputs": [
    {
     "name": "stdout",
     "output_type": "stream",
     "text": [
      "Pandas Version: 0.23.4\n",
      "SWAT Version: 1.5.0\n",
      "CPUs: 6\n"
     ]
    }
   ],
   "source": [
    "print(f\"Pandas Version: {pd.__version__}\")\n",
    "print(f\"SWAT Version: {swat.__version__}\")\n",
    "print(f\"CPUs: {multiprocessing.cpu_count()}\")"
   ]
  },
  {
   "cell_type": "markdown",
   "metadata": {},
   "source": [
    "Successful execution of the prior cell prints out the `pandas` and `python-swat` versions, as well as the number of CPUs available."
   ]
  },
  {
   "cell_type": "markdown",
   "metadata": {},
   "source": [
    "We'll use the next cell in all of the notebooks we demonstrate here.\n",
    "\n",
    "The first call sets the environment variable necessary for us to verify our security model.\n",
    "\n",
    "The second establishes our connection to our CAS server. \n",
    "\n",
    "Make sure you enter the URL for your server; in all cells we have a placeholder. There is no need to change the second parameter - the port - because we are using the CAS binary protocol."
   ]
  },
  {
   "cell_type": "code",
   "execution_count": 3,
   "metadata": {},
   "outputs": [
    {
     "name": "stdout",
     "output_type": "stream",
     "text": [
      "NOTE: Reading authinfo file: /home/ds/.authinfo\n",
      "NOTE: Matching host: d-crd-datasci01big.dev.cyber.sas.com\n",
      "NOTE: Matching port: 5570\n",
      "NOTE: Matching user: NONE\n",
      "NOTE: Using authinfo host definition: default user daherr password ********************************\n",
      "NOTE: Client is using userid=daherr, password=***\n",
      "NOTE: Client is using the userpass identity provider\n",
      "NOTE: Sent challenge length 96\n",
      "NOTE: Received response length 52\n",
      "NOTE: User daherr connected to CAS using user/pass.\n"
     ]
    }
   ],
   "source": [
    "os.environ[\"CAS_CLIENT_SSL_CA_LIST\"]=\"/home/ds/cascert.pem\"\n",
    "os.environ[\"CASCLIENTDEBUG\"] = \"1\"\n",
    "\n",
    "conn = swat.CAS(\"d-crd-datasci01big.dev.cyber.sas.com\", 5570)"
   ]
  },
  {
   "cell_type": "markdown",
   "metadata": {},
   "source": [
    "If the prior cell executes without errors, we want to learn a little about our CAS server. Start with the CASLIBs we have available to us."
   ]
  },
  {
   "cell_type": "code",
   "execution_count": null,
   "metadata": {},
   "outputs": [],
   "source": [
    "conn.caslibinfo()"
   ]
  },
  {
   "cell_type": "markdown",
   "metadata": {},
   "source": [
    "Next, get our license information."
   ]
  },
  {
   "cell_type": "code",
   "execution_count": null,
   "metadata": {},
   "outputs": [],
   "source": [
    "conn.builtins.getlicenseinfo()"
   ]
  },
  {
   "cell_type": "markdown",
   "metadata": {},
   "source": [
    "What is the status of our server?"
   ]
  },
  {
   "cell_type": "code",
   "execution_count": null,
   "metadata": {},
   "outputs": [],
   "source": [
    "conn.builtins.serverstatus()"
   ]
  },
  {
   "cell_type": "markdown",
   "metadata": {},
   "source": [
    "How many nodes do we have available?"
   ]
  },
  {
   "cell_type": "code",
   "execution_count": null,
   "metadata": {},
   "outputs": [],
   "source": [
    "conn.builtins.listnodes()"
   ]
  },
  {
   "cell_type": "markdown",
   "metadata": {},
   "source": [
    "Show the current active session information."
   ]
  },
  {
   "cell_type": "code",
   "execution_count": null,
   "metadata": {},
   "outputs": [],
   "source": [
    "conn.listsessions()"
   ]
  },
  {
   "cell_type": "markdown",
   "metadata": {},
   "source": [
    "Now we'll do some more interesting stuff.\n",
    "\n",
    "We want to see the actionsets that are available on our server.\n",
    "\n",
    "Getting `all` set to `True` lists both loaded and unloaded.\n",
    "\n",
    "We then take that information and split into two - one collection for the loaded variables, another for the unloaded ones."
   ]
  },
  {
   "cell_type": "code",
   "execution_count": null,
   "metadata": {},
   "outputs": [],
   "source": [
    "asinfo = conn.actionsetinfo(all=True)\n",
    "asinfoUnloaded = asinfo.setinfo[asinfo.setinfo.loaded == 0].loc[:, 'actionset':'label']\n",
    "asinfoLoaded = asinfo.setinfo[asinfo.setinfo.loaded == 1].loc[:, 'actionset':'label']"
   ]
  },
  {
   "cell_type": "code",
   "execution_count": null,
   "metadata": {},
   "outputs": [],
   "source": [
    "asinfoLoaded"
   ]
  },
  {
   "cell_type": "code",
   "execution_count": null,
   "metadata": {},
   "outputs": [],
   "source": [
    "asinfoUnloaded"
   ]
  },
  {
   "cell_type": "markdown",
   "metadata": {},
   "source": [
    "If we want to see more information, we can get the `help` object which gives summaries of all actionsets and their corresponding actions.\n",
    "\n",
    "The subsequent cells provide various ways to look at the data returned into the `out` variable."
   ]
  },
  {
   "cell_type": "code",
   "execution_count": null,
   "metadata": {},
   "outputs": [],
   "source": [
    "out = conn.help()"
   ]
  },
  {
   "cell_type": "code",
   "execution_count": null,
   "metadata": {},
   "outputs": [],
   "source": [
    "list(out.keys())"
   ]
  },
  {
   "cell_type": "code",
   "execution_count": null,
   "metadata": {},
   "outputs": [],
   "source": [
    "out"
   ]
  },
  {
   "cell_type": "code",
   "execution_count": null,
   "metadata": {},
   "outputs": [],
   "source": [
    "out['simple']"
   ]
  },
  {
   "cell_type": "markdown",
   "metadata": {},
   "source": [
    "When we're all finished, it's good etiquette to close your sessions."
   ]
  },
  {
   "cell_type": "code",
   "execution_count": null,
   "metadata": {},
   "outputs": [],
   "source": [
    "conn.close()"
   ]
  }
 ],
 "metadata": {
  "kernelspec": {
   "display_name": "Python 3",
   "language": "python",
   "name": "python3"
  },
  "language_info": {
   "codemirror_mode": {
    "name": "ipython",
    "version": 3
   },
   "file_extension": ".py",
   "mimetype": "text/x-python",
   "name": "python",
   "nbconvert_exporter": "python",
   "pygments_lexer": "ipython3",
   "version": "3.7.2"
  }
 },
 "nbformat": 4,
 "nbformat_minor": 2
}
