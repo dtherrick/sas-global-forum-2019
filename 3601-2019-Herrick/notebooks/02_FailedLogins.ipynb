{
 "cells": [
  {
   "cell_type": "code",
   "execution_count": 1,
   "metadata": {},
   "outputs": [],
   "source": [
    "import warnings\n",
    "warnings.filterwarnings('ignore')\n",
    "\n",
    "import os\n",
    "import swat\n",
    "import matplotlib.pyplot as plt\n",
    "import numpy as np\n",
    "\n",
    "%matplotlib inline"
   ]
  },
  {
   "cell_type": "code",
   "execution_count": 2,
   "metadata": {},
   "outputs": [],
   "source": [
    "os.environ[\"CAS_CLIENT_SSL_CA_LIST\"]=\"/home/ds/cascert.pem\"\n",
    "\n",
    "conn = swat.CAS(\"d-crd-datasci01big.dev.cyber.sas.com\", 5570)"
   ]
  },
  {
   "cell_type": "code",
   "execution_count": 3,
   "metadata": {},
   "outputs": [
    {
     "data": {
      "text/html": [
       "<div class=\"cas-output-area\"></div>\n",
       "<p class=\"cas-results-performance\"><small><span class=\"cas-elapsed\">elapsed 0.000342s</span> &#183; <span class=\"cas-user\">user 0.000213s</span> &#183; <span class=\"cas-sys\">sys 8.6e-05s</span> &#183; <span class=\"cas-memory\">mem 0.225MB</span></small></p>"
      ],
      "text/plain": [
       "+ Elapsed: 0.000342s, user: 0.000213s, sys: 8.6e-05s, mem: 0.225mb"
      ]
     },
     "execution_count": 3,
     "metadata": {},
     "output_type": "execute_result"
    }
   ],
   "source": [
    "conn.setsessopt('WH')"
   ]
  },
  {
   "cell_type": "code",
   "execution_count": 4,
   "metadata": {},
   "outputs": [
    {
     "name": "stdout",
     "output_type": "stream",
     "text": [
      "NOTE: Cloud Analytic Services made the file wls_day_02_hr13.sashdat available as table WLS_DAY_02_HR13 in caslib CASUSER(daherr).\n"
     ]
    }
   ],
   "source": [
    "out = conn.loadtable('wls_day_02_hr13.sashdat', caslib='WH')"
   ]
  },
  {
   "cell_type": "code",
   "execution_count": 5,
   "metadata": {},
   "outputs": [
    {
     "data": {
      "text/html": [
       "<div class=\"cas-results-key\"><b>&#167; caslib</b></div>\n",
       "<div class=\"cas-results-body\">\n",
       "<div>CASUSER(daherr)</div>\n",
       "</div>\n",
       "<div class=\"cas-results-key\"><hr/><b>&#167; tableName</b></div>\n",
       "<div class=\"cas-results-body\">\n",
       "<div>WLS_DAY02_HR13_FAILED</div>\n",
       "</div>\n",
       "<div class=\"cas-results-key\"><hr/><b>&#167; rowsTransferred</b></div>\n",
       "<div class=\"cas-results-body\">\n",
       "<div>0</div>\n",
       "</div>\n",
       "<div class=\"cas-results-key\"><hr/><b>&#167; shuffleWaitTime</b></div>\n",
       "<div class=\"cas-results-body\">\n",
       "<div>0.0</div>\n",
       "</div>\n",
       "<div class=\"cas-results-key\"><hr/><b>&#167; minShuffleWaitTime</b></div>\n",
       "<div class=\"cas-results-body\">\n",
       "<div>1e+300</div>\n",
       "</div>\n",
       "<div class=\"cas-results-key\"><hr/><b>&#167; maxShuffleWaitTime</b></div>\n",
       "<div class=\"cas-results-body\">\n",
       "<div>0.0</div>\n",
       "</div>\n",
       "<div class=\"cas-results-key\"><hr/><b>&#167; averageShuffleWaitTime</b></div>\n",
       "<div class=\"cas-results-body\">\n",
       "<div>0.0</div>\n",
       "</div>\n",
       "<div class=\"cas-results-key\"><hr/><b>&#167; casTable</b></div>\n",
       "<div class=\"cas-results-body\">\n",
       "<div>CASTable('WLS_DAY02_HR13_FAILED', caslib='CASUSER(daherr)')</div>\n",
       "</div>\n",
       "<div class=\"cas-output-area\"></div>\n",
       "<p class=\"cas-results-performance\"><small><span class=\"cas-elapsed\">elapsed 0.166s</span> &#183; <span class=\"cas-user\">user 0.104s</span> &#183; <span class=\"cas-sys\">sys 0.0606s</span> &#183; <span class=\"cas-memory\">mem 3.8MB</span></small></p>"
      ],
      "text/plain": [
       "[caslib]\n",
       "\n",
       " 'CASUSER(daherr)'\n",
       "\n",
       "[tableName]\n",
       "\n",
       " 'WLS_DAY02_HR13_FAILED'\n",
       "\n",
       "[rowsTransferred]\n",
       "\n",
       " 0\n",
       "\n",
       "[shuffleWaitTime]\n",
       "\n",
       " 0.0\n",
       "\n",
       "[minShuffleWaitTime]\n",
       "\n",
       " 1e+300\n",
       "\n",
       "[maxShuffleWaitTime]\n",
       "\n",
       " 0.0\n",
       "\n",
       "[averageShuffleWaitTime]\n",
       "\n",
       " 0.0\n",
       "\n",
       "[casTable]\n",
       "\n",
       " CASTable('WLS_DAY02_HR13_FAILED', caslib='CASUSER(daherr)')\n",
       "\n",
       "+ Elapsed: 0.166s, user: 0.104s, sys: 0.0606s, mem: 3.8mb"
      ]
     },
     "execution_count": 5,
     "metadata": {},
     "output_type": "execute_result"
    }
   ],
   "source": [
    "clause = \"EventID = 4625\"\n",
    "where = clause.format(table=\"\", not_missing=\"Is Not Missing\")\n",
    "\n",
    "conn.partition(table={\"name\": \"wls_day_02_hr13\", \"where\":where}, \n",
    "               casout={\"name\": \"WLS_DAY02_HR13_FAILED\"})"
   ]
  },
  {
   "cell_type": "code",
   "execution_count": 6,
   "metadata": {},
   "outputs": [],
   "source": [
    "failedFull = conn.CASTable('WLS_DAY02_HR13_FAILED')"
   ]
  },
  {
   "cell_type": "code",
   "execution_count": 7,
   "metadata": {},
   "outputs": [
    {
     "data": {
      "text/plain": [
       "1507"
      ]
     },
     "execution_count": 7,
     "metadata": {},
     "output_type": "execute_result"
    }
   ],
   "source": [
    "len(failedFull)"
   ]
  },
  {
   "cell_type": "code",
   "execution_count": 8,
   "metadata": {},
   "outputs": [
    {
     "data": {
      "text/html": [
       "<div class=\"cas-results-key\"><b>&#167; Distinct</b></div>\n",
       "<div class=\"cas-results-body\">\n",
       "<div>\n",
       "<style scoped>\n",
       "    .dataframe tbody tr th:only-of-type {\n",
       "        vertical-align: middle;\n",
       "    }\n",
       "\n",
       "    .dataframe tbody tr th {\n",
       "        vertical-align: top;\n",
       "    }\n",
       "\n",
       "    .dataframe thead th {\n",
       "        text-align: right;\n",
       "    }\n",
       "</style>\n",
       "<table border=\"1\" class=\"dataframe\"><caption>Distinct Counts for WLS_DAY02_HR13_FAILED</caption>\n",
       "  <thead>\n",
       "    <tr style=\"text-align: right;\">\n",
       "      <th title=\"\"></th>\n",
       "      <th title=\"Analysis Variable\">Column</th>\n",
       "      <th title=\"Number of Distinct Values\">NDistinct</th>\n",
       "      <th title=\"Number of Missing Values\">NMiss</th>\n",
       "      <th title=\"Truncated\">Trunc</th>\n",
       "    </tr>\n",
       "  </thead>\n",
       "  <tbody>\n",
       "    <tr>\n",
       "      <th>0</th>\n",
       "      <td>UserName</td>\n",
       "      <td>142.0</td>\n",
       "      <td>0.0</td>\n",
       "      <td>0.0</td>\n",
       "    </tr>\n",
       "  </tbody>\n",
       "</table>\n",
       "</div>\n",
       "</div>\n",
       "<div class=\"cas-output-area\"></div>\n",
       "<p class=\"cas-results-performance\"><small><span class=\"cas-elapsed\">elapsed 0.0289s</span> &#183; <span class=\"cas-user\">user 0.00793s</span> &#183; <span class=\"cas-sys\">sys 0.0333s</span> &#183; <span class=\"cas-memory\">mem 12MB</span></small></p>"
      ],
      "text/plain": [
       "[Distinct]\n",
       "\n",
       " Distinct Counts for WLS_DAY02_HR13_FAILED\n",
       " \n",
       "      Column  NDistinct  NMiss  Trunc\n",
       " 0  UserName      142.0    0.0    0.0\n",
       "\n",
       "+ Elapsed: 0.0289s, user: 0.00793s, sys: 0.0333s, mem: 12mb"
      ]
     },
     "execution_count": 8,
     "metadata": {},
     "output_type": "execute_result"
    }
   ],
   "source": [
    "failedFull.UserName.distinct()"
   ]
  },
  {
   "cell_type": "code",
   "execution_count": 9,
   "metadata": {},
   "outputs": [
    {
     "name": "stdout",
     "output_type": "stream",
     "text": [
      "NOTE: Added action set 'fedsql'.\n"
     ]
    },
    {
     "data": {
      "text/html": [
       "<div class=\"cas-results-key\"><b>&#167; actionset</b></div>\n",
       "<div class=\"cas-results-body\">\n",
       "<div>fedsql</div>\n",
       "</div>\n",
       "<div class=\"cas-output-area\"></div>\n",
       "<p class=\"cas-results-performance\"><small><span class=\"cas-elapsed\">elapsed 0.00316s</span> &#183; <span class=\"cas-user\">user 0.00205s</span> &#183; <span class=\"cas-sys\">sys 0.00105s</span> &#183; <span class=\"cas-memory\">mem 0.262MB</span></small></p>"
      ],
      "text/plain": [
       "[actionset]\n",
       "\n",
       " 'fedsql'\n",
       "\n",
       "+ Elapsed: 0.00316s, user: 0.00205s, sys: 0.00105s, mem: 0.262mb"
      ]
     },
     "execution_count": 9,
     "metadata": {},
     "output_type": "execute_result"
    }
   ],
   "source": [
    "conn.loadactionset(\"fedsql\")"
   ]
  },
  {
   "cell_type": "code",
   "execution_count": 10,
   "metadata": {},
   "outputs": [
    {
     "name": "stdout",
     "output_type": "stream",
     "text": [
      "NOTE: Table WLS_DAY02_HR13_FAILED_USERS was created in caslib CASUSER(daherr) with 142 rows returned.\n"
     ]
    },
    {
     "data": {
      "text/html": [
       "<div class=\"cas-output-area\"></div>\n",
       "<p class=\"cas-results-performance\"><small><span class=\"cas-elapsed\">elapsed 0.746s</span> &#183; <span class=\"cas-user\">user 0.977s</span> &#183; <span class=\"cas-sys\">sys 2.19s</span> &#183; <span class=\"cas-memory\">mem 380MB</span></small></p>"
      ],
      "text/plain": [
       "+ Elapsed: 0.746s, user: 0.977s, sys: 2.19s, mem: 380mb"
      ]
     },
     "execution_count": 10,
     "metadata": {},
     "output_type": "execute_result"
    }
   ],
   "source": [
    "query = f\"CREATE TABLE WLS_DAY02_HR13_FAILED_USERS AS SELECT UserName, count(UserName) as Failures \\\n",
    "          FROM WLS_DAY02_HR13_FAILED GROUP BY UserName\"\n",
    "\n",
    "conn.fedsql.execdirect(query)"
   ]
  },
  {
   "cell_type": "code",
   "execution_count": 11,
   "metadata": {},
   "outputs": [],
   "source": [
    "failedUsers = conn.CASTable('WLS_DAY02_HR13_FAILED_USERS').sort('Failures', ascending=False)"
   ]
  },
  {
   "cell_type": "code",
   "execution_count": 13,
   "metadata": {},
   "outputs": [
    {
     "data": {
      "text/html": [
       "<div>\n",
       "<style scoped>\n",
       "    .dataframe tbody tr th:only-of-type {\n",
       "        vertical-align: middle;\n",
       "    }\n",
       "\n",
       "    .dataframe tbody tr th {\n",
       "        vertical-align: top;\n",
       "    }\n",
       "\n",
       "    .dataframe thead th {\n",
       "        text-align: right;\n",
       "    }\n",
       "</style>\n",
       "<table border=\"1\" class=\"dataframe\"><caption>Selected Rows from Table WLS_DAY02_HR13_FAILED_USERS</caption>\n",
       "  <thead>\n",
       "    <tr style=\"text-align: right;\">\n",
       "      <th title=\"\"></th>\n",
       "      <th title=\"UserName\">UserName</th>\n",
       "      <th title=\"FAILURES\">FAILURES</th>\n",
       "    </tr>\n",
       "  </thead>\n",
       "  <tbody>\n",
       "    <tr>\n",
       "      <th>0</th>\n",
       "      <td>Comp065845$</td>\n",
       "      <td>636</td>\n",
       "    </tr>\n",
       "    <tr>\n",
       "      <th>1</th>\n",
       "      <td>Administrator</td>\n",
       "      <td>207</td>\n",
       "    </tr>\n",
       "    <tr>\n",
       "      <th>2</th>\n",
       "      <td>AppService</td>\n",
       "      <td>163</td>\n",
       "    </tr>\n",
       "    <tr>\n",
       "      <th>3</th>\n",
       "      <td>User031784</td>\n",
       "      <td>79</td>\n",
       "    </tr>\n",
       "    <tr>\n",
       "      <th>4</th>\n",
       "      <td>User006226</td>\n",
       "      <td>36</td>\n",
       "    </tr>\n",
       "    <tr>\n",
       "      <th>5</th>\n",
       "      <td>Scanner</td>\n",
       "      <td>33</td>\n",
       "    </tr>\n",
       "    <tr>\n",
       "      <th>6</th>\n",
       "      <td>User759472</td>\n",
       "      <td>19</td>\n",
       "    </tr>\n",
       "    <tr>\n",
       "      <th>7</th>\n",
       "      <td>User986685</td>\n",
       "      <td>18</td>\n",
       "    </tr>\n",
       "    <tr>\n",
       "      <th>8</th>\n",
       "      <td>User718489</td>\n",
       "      <td>17</td>\n",
       "    </tr>\n",
       "    <tr>\n",
       "      <th>9</th>\n",
       "      <td>User096590</td>\n",
       "      <td>15</td>\n",
       "    </tr>\n",
       "  </tbody>\n",
       "</table>\n",
       "</div>"
      ],
      "text/plain": [
       "Selected Rows from Table WLS_DAY02_HR13_FAILED_USERS\n",
       "\n",
       "        UserName  FAILURES\n",
       "0    Comp065845$       636\n",
       "1  Administrator       207\n",
       "2     AppService       163\n",
       "3     User031784        79\n",
       "4     User006226        36\n",
       "5        Scanner        33\n",
       "6     User759472        19\n",
       "7     User986685        18\n",
       "8     User718489        17\n",
       "9     User096590        15"
      ]
     },
     "execution_count": 13,
     "metadata": {},
     "output_type": "execute_result"
    }
   ],
   "source": [
    "failedUsers.head(10)"
   ]
  },
  {
   "cell_type": "code",
   "execution_count": null,
   "metadata": {},
   "outputs": [],
   "source": [
    "failedUsers.FAILURES.summary()['Summary'].transpose()"
   ]
  },
  {
   "cell_type": "code",
   "execution_count": null,
   "metadata": {},
   "outputs": [],
   "source": [
    "y_pos = np.arange(20)\n",
    "\n",
    "plt.figure(figsize=(20,5))\n",
    "plt.bar(y_pos, failedUsers.FAILURES.values[:20], align='center', alpha=0.5)\n",
    "plt.xticks(y_pos, failedUsers.UserName.values[:20], rotation=45)\n",
    "plt.ylabel('Failed Login Attempts')\n",
    "plt.title('Top 20 Login Failures By Username')\n",
    "plt.savefig('loginFailures.png', bbox_inches='tight')\n",
    "\n",
    "plt.show()"
   ]
  },
  {
   "cell_type": "code",
   "execution_count": null,
   "metadata": {},
   "outputs": [],
   "source": [
    "conn.close()"
   ]
  },
  {
   "cell_type": "code",
   "execution_count": null,
   "metadata": {},
   "outputs": [],
   "source": []
  }
 ],
 "metadata": {
  "kernelspec": {
   "display_name": "Python 3",
   "language": "python",
   "name": "python3"
  },
  "language_info": {
   "codemirror_mode": {
    "name": "ipython",
    "version": 3
   },
   "file_extension": ".py",
   "mimetype": "text/x-python",
   "name": "python",
   "nbconvert_exporter": "python",
   "pygments_lexer": "ipython3",
   "version": "3.7.2"
  }
 },
 "nbformat": 4,
 "nbformat_minor": 2
}
