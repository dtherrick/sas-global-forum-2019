{
 "cells": [
  {
   "cell_type": "markdown",
   "metadata": {},
   "source": [
    "### Mapping Network Topology with Netflow Data in CAS (IN-PROGRESS)\n",
    "\n",
    "This notebook demonstrates how to generate network graphs of the network as defined in netflow data.\n",
    "\n",
    "Inspired by the blog post: [Analyzing social networks using Python and SAS Viya](https://blogs.sas.com/content/sascom/2016/10/20/analyzing-social-networks-using-python-sas-viya/) by Falko Schulz. This notebook applies some of the principles and examples in this post, but with netflow data to bring into a cybersecurity context.\n",
    "\n",
    "\n",
    "__Damian Herrick__  \n",
    "__SAS Institute__  \n",
    "__[damian.herrick@sas.com](mailto:damian.herrick@sas.com)__  "
   ]
  },
  {
   "cell_type": "code",
   "execution_count": 1,
   "metadata": {},
   "outputs": [],
   "source": [
    "import os\n",
    "import numpy as np\n",
    "import pandas as pd\n",
    "import swat\n",
    "from swat.cas import datamsghandlers as dmh\n",
    "\n",
    "import matplotlib.pyplot as plt\n",
    "import matplotlib.colors as colors # package includes utilities for color ranges\n",
    "import matplotlib.cm as cmx\n",
    "import networkx as nx\n",
    "\n",
    "%matplotlib inline"
   ]
  },
  {
   "cell_type": "markdown",
   "metadata": {},
   "source": [
    "Let's make a helper function to draw a network graph."
   ]
  },
  {
   "cell_type": "code",
   "execution_count": 3,
   "metadata": {},
   "outputs": [],
   "source": [
    "os.environ[\"CAS_CLIENT_SSL_CA_LIST\"]=\"/home/ds/cascert.pem\"\n",
    "\n",
    "conn = swat.CAS(\"d-crd-datasci01big.dev.cyber.sas.com\", 5570)"
   ]
  },
  {
   "cell_type": "code",
   "execution_count": 4,
   "metadata": {},
   "outputs": [
    {
     "name": "stdout",
     "output_type": "stream",
     "text": [
      "NOTE: Cloud Analytic Services removed the caslib 'LANL_NF'.\n",
      "NOTE: 'LANL_NF' is now the active caslib.\n",
      "NOTE: Cloud Analytic Services added the caslib 'LANL_NF'.\n",
      "NOTE: 'LANL_NF' is now the active caslib.\n"
     ]
    },
    {
     "data": {
      "text/html": [
       "<div class=\"cas-output-area\"></div>\n",
       "<p class=\"cas-results-performance\"><small><span class=\"cas-elapsed\">elapsed 0.000859s</span> &#183; <span class=\"cas-user\">user 0.000288s</span> &#183; <span class=\"cas-sys\">sys 0.0005s</span> &#183; <span class=\"cas-memory\">mem 0.225MB</span></small></p>"
      ],
      "text/plain": [
       "+ Elapsed: 0.000859s, user: 0.000288s, sys: 0.0005s, mem: 0.225mb"
      ]
     },
     "execution_count": 4,
     "metadata": {},
     "output_type": "execute_result"
    }
   ],
   "source": [
    "conn.dropcaslib(caslib='LANL_NF', quiet=True)\n",
    "\n",
    "conn.addcaslib(name='LANL_NF', path='/home/datasets/LANL/NF/', \n",
    "               description=\"LANL Netflow\",\n",
    "               session=False)\n",
    "conn.setsessopt(caslib='LANL_NF')"
   ]
  },
  {
   "cell_type": "code",
   "execution_count": 5,
   "metadata": {},
   "outputs": [
    {
     "name": "stdout",
     "output_type": "stream",
     "text": [
      "NOTE: Cloud Analytic Services made the file nf_day_02_hr13.sashdat available as table NF_DAY_02_HR13 in caslib LANL_NF.\n"
     ]
    },
    {
     "data": {
      "text/html": [
       "<div class=\"cas-results-key\"><b>&#167; caslib</b></div>\n",
       "<div class=\"cas-results-body\">\n",
       "<div>LANL_NF</div>\n",
       "</div>\n",
       "<div class=\"cas-results-key\"><hr/><b>&#167; tableName</b></div>\n",
       "<div class=\"cas-results-body\">\n",
       "<div>NF_DAY_02_HR13</div>\n",
       "</div>\n",
       "<div class=\"cas-results-key\"><hr/><b>&#167; casTable</b></div>\n",
       "<div class=\"cas-results-body\">\n",
       "<div>CASTable('NF_DAY_02_HR13', caslib='LANL_NF')</div>\n",
       "</div>\n",
       "<div class=\"cas-output-area\"></div>\n",
       "<p class=\"cas-results-performance\"><small><span class=\"cas-elapsed\">elapsed 0.00644s</span> &#183; <span class=\"cas-user\">user 0.00274s</span> &#183; <span class=\"cas-sys\">sys 0.00356s</span> &#183; <span class=\"cas-memory\">mem 0.935MB</span></small></p>"
      ],
      "text/plain": [
       "[caslib]\n",
       "\n",
       " 'LANL_NF'\n",
       "\n",
       "[tableName]\n",
       "\n",
       " 'NF_DAY_02_HR13'\n",
       "\n",
       "[casTable]\n",
       "\n",
       " CASTable('NF_DAY_02_HR13', caslib='LANL_NF')\n",
       "\n",
       "+ Elapsed: 0.00644s, user: 0.00274s, sys: 0.00356s, mem: 0.935mb"
      ]
     },
     "execution_count": 5,
     "metadata": {},
     "output_type": "execute_result"
    }
   ],
   "source": [
    "conn.loadtable(\"nf_day_02_hr13.sashdat\", caslib=\"LANL_NF\")"
   ]
  },
  {
   "cell_type": "code",
   "execution_count": 6,
   "metadata": {},
   "outputs": [
    {
     "name": "stdout",
     "output_type": "stream",
     "text": [
      "CREATE TABLE nf_day_02_hr13_pairs AS SELECT SrcDevice, DstDevice, COUNT(*) FROM nf_day_02_hr13 GROUP BY SrcDevice, DstDevice \n"
     ]
    }
   ],
   "source": [
    "pairsCode = F'''CREATE TABLE nf_day_02_hr13_pairs AS SELECT SrcDevice, DstDevice, COUNT(*) FROM nf_day_02_hr13 GROUP BY SrcDevice, DstDevice '''\n",
    "print(pairsCode)"
   ]
  },
  {
   "cell_type": "code",
   "execution_count": 7,
   "metadata": {},
   "outputs": [
    {
     "name": "stdout",
     "output_type": "stream",
     "text": [
      "NOTE: Added action set 'fedsql'.\n"
     ]
    },
    {
     "data": {
      "text/html": [
       "<div class=\"cas-results-key\"><b>&#167; actionset</b></div>\n",
       "<div class=\"cas-results-body\">\n",
       "<div>fedsql</div>\n",
       "</div>\n",
       "<div class=\"cas-output-area\"></div>\n",
       "<p class=\"cas-results-performance\"><small><span class=\"cas-elapsed\">elapsed 0.00343s</span> &#183; <span class=\"cas-user\">user 0.00313s</span> &#183; <span class=\"cas-sys\">sys 0.000238s</span> &#183; <span class=\"cas-memory\">mem 0.23MB</span></small></p>"
      ],
      "text/plain": [
       "[actionset]\n",
       "\n",
       " 'fedsql'\n",
       "\n",
       "+ Elapsed: 0.00343s, user: 0.00313s, sys: 0.000238s, mem: 0.23mb"
      ]
     },
     "execution_count": 7,
     "metadata": {},
     "output_type": "execute_result"
    }
   ],
   "source": [
    "conn.loadactionset(\"fedsql\")"
   ]
  },
  {
   "cell_type": "code",
   "execution_count": 8,
   "metadata": {},
   "outputs": [
    {
     "name": "stdout",
     "output_type": "stream",
     "text": [
      "NOTE: Table NF_DAY_02_HR13_PAIRS was created in caslib LANL_NF with 100063 rows returned.\n"
     ]
    },
    {
     "data": {
      "text/html": [
       "<div class=\"cas-output-area\"></div>\n",
       "<p class=\"cas-results-performance\"><small><span class=\"cas-elapsed\">elapsed 2.55s</span> &#183; <span class=\"cas-user\">user 3.22s</span> &#183; <span class=\"cas-sys\">sys 3.02s</span> &#183; <span class=\"cas-memory\">mem 458MB</span></small></p>"
      ],
      "text/plain": [
       "+ Elapsed: 2.55s, user: 3.22s, sys: 3.02s, mem: 458mb"
      ]
     },
     "execution_count": 8,
     "metadata": {},
     "output_type": "execute_result"
    }
   ],
   "source": [
    "conn.fedsql.execdirect(pairsCode)"
   ]
  },
  {
   "cell_type": "code",
   "execution_count": 9,
   "metadata": {},
   "outputs": [
    {
     "name": "stdout",
     "output_type": "stream",
     "text": [
      "NOTE: Cloud Analytic Services saved the file nf_day_02_hr13_pairs.sashdat in caslib LANL_NF.\n"
     ]
    },
    {
     "data": {
      "text/html": [
       "<div class=\"cas-results-key\"><b>&#167; caslib</b></div>\n",
       "<div class=\"cas-results-body\">\n",
       "<div>LANL_NF</div>\n",
       "</div>\n",
       "<div class=\"cas-results-key\"><hr/><b>&#167; name</b></div>\n",
       "<div class=\"cas-results-body\">\n",
       "<div>nf_day_02_hr13_pairs.sashdat</div>\n",
       "</div>\n",
       "<div class=\"cas-output-area\"></div>\n",
       "<p class=\"cas-results-performance\"><small><span class=\"cas-elapsed\">elapsed 0.0275s</span> &#183; <span class=\"cas-user\">user 0.00144s</span> &#183; <span class=\"cas-sys\">sys 0.0228s</span> &#183; <span class=\"cas-memory\">mem 16.5MB</span></small></p>"
      ],
      "text/plain": [
       "[caslib]\n",
       "\n",
       " 'LANL_NF'\n",
       "\n",
       "[name]\n",
       "\n",
       " 'nf_day_02_hr13_pairs.sashdat'\n",
       "\n",
       "+ Elapsed: 0.0275s, user: 0.00144s, sys: 0.0228s, mem: 16.5mb"
      ]
     },
     "execution_count": 9,
     "metadata": {},
     "output_type": "execute_result"
    }
   ],
   "source": [
    "conn.save(table='nf_day_02_hr13_pairs', name='nf_day_02_hr13_pairs.sashdat', caslib='LANL_NF', replace=True)"
   ]
  },
  {
   "cell_type": "code",
   "execution_count": 10,
   "metadata": {},
   "outputs": [
    {
     "name": "stdout",
     "output_type": "stream",
     "text": [
      "NOTE: Added action set 'hypergroup'.\n"
     ]
    },
    {
     "data": {
      "text/html": [
       "<div class=\"cas-results-key\"><b>&#167; actionset</b></div>\n",
       "<div class=\"cas-results-body\">\n",
       "<div>hypergroup</div>\n",
       "</div>\n",
       "<div class=\"cas-output-area\"></div>\n",
       "<p class=\"cas-results-performance\"><small><span class=\"cas-elapsed\">elapsed 0.00176s</span> &#183; <span class=\"cas-user\">user 0.00111s</span> &#183; <span class=\"cas-sys\">sys 0.0006s</span> &#183; <span class=\"cas-memory\">mem 0.223MB</span></small></p>"
      ],
      "text/plain": [
       "[actionset]\n",
       "\n",
       " 'hypergroup'\n",
       "\n",
       "+ Elapsed: 0.00176s, user: 0.00111s, sys: 0.0006s, mem: 0.223mb"
      ]
     },
     "execution_count": 10,
     "metadata": {},
     "output_type": "execute_result"
    }
   ],
   "source": [
    "conn.loadactionset('hypergroup')"
   ]
  },
  {
   "cell_type": "code",
   "execution_count": null,
   "metadata": {},
   "outputs": [],
   "source": [
    "conn.hyperGroup.hyperGroup(\n",
    "    createOut         = \"NEVER\", # this suppresses the creation of a table that’s usually produced, but it’s not needed here\n",
    "    allGraphs         = True, # process all graphs even if disconnected\n",
    "    community         = True,\n",
    "    nCommunities      = 4,\n",
    "    centrality        = True,\n",
    "    scaleCentralities = \"CENTRAL1\",\n",
    "    inputs            = [\"SrcDevice\", \"DstDevice\"], # the source and target column indicating an edge\n",
    "    table             = 'nf_day_02_hr13_pairs', # the input data set\n",
    "    edges             = {'name':'edges','replace':True}, # result table containing edge attributes\n",
    "    vertices          = {'name':'nodes','replace':True}  # result table containing vertice attributes\n",
    ")"
   ]
  },
  {
   "cell_type": "code",
   "execution_count": null,
   "metadata": {},
   "outputs": [],
   "source": [
    "conn.save(table='nodes', name='nodes.sashdat', caslib='LANL_NF', replace=True)\n",
    "conn.save(table='edges', name='edges.sashdat', caslib='LANL_NF', replace=True)"
   ]
  },
  {
   "cell_type": "code",
   "execution_count": 11,
   "metadata": {},
   "outputs": [
    {
     "name": "stdout",
     "output_type": "stream",
     "text": [
      "NOTE: Cloud Analytic Services made the file nodes.sashdat available as table NODES in caslib LANL_NF.\n",
      "NOTE: Cloud Analytic Services made the file edges.sashdat available as table EDGES in caslib LANL_NF.\n"
     ]
    },
    {
     "data": {
      "text/html": [
       "<div class=\"cas-results-key\"><b>&#167; caslib</b></div>\n",
       "<div class=\"cas-results-body\">\n",
       "<div>LANL_NF</div>\n",
       "</div>\n",
       "<div class=\"cas-results-key\"><hr/><b>&#167; tableName</b></div>\n",
       "<div class=\"cas-results-body\">\n",
       "<div>EDGES</div>\n",
       "</div>\n",
       "<div class=\"cas-results-key\"><hr/><b>&#167; casTable</b></div>\n",
       "<div class=\"cas-results-body\">\n",
       "<div>CASTable('EDGES', caslib='LANL_NF')</div>\n",
       "</div>\n",
       "<div class=\"cas-output-area\"></div>\n",
       "<p class=\"cas-results-performance\"><small><span class=\"cas-elapsed\">elapsed 0.00177s</span> &#183; <span class=\"cas-user\">user 0.00136s</span> &#183; <span class=\"cas-sys\">sys 0.000238s</span> &#183; <span class=\"cas-memory\">mem 0.666MB</span></small></p>"
      ],
      "text/plain": [
       "[caslib]\n",
       "\n",
       " 'LANL_NF'\n",
       "\n",
       "[tableName]\n",
       "\n",
       " 'EDGES'\n",
       "\n",
       "[casTable]\n",
       "\n",
       " CASTable('EDGES', caslib='LANL_NF')\n",
       "\n",
       "+ Elapsed: 0.00177s, user: 0.00136s, sys: 0.000238s, mem: 0.666mb"
      ]
     },
     "execution_count": 11,
     "metadata": {},
     "output_type": "execute_result"
    }
   ],
   "source": [
    "conn.loadtable('nodes.sashdat', caslib='LANL_NF')\n",
    "conn.loadtable('edges.sashdat', caslib='LANL_NF')"
   ]
  },
  {
   "cell_type": "code",
   "execution_count": 12,
   "metadata": {},
   "outputs": [
    {
     "data": {
      "text/html": [
       "<div class=\"cas-results-key\"><b>&#167; Distinct</b></div>\n",
       "<div class=\"cas-results-body\">\n",
       "<div>\n",
       "<style scoped>\n",
       "    .dataframe tbody tr th:only-of-type {\n",
       "        vertical-align: middle;\n",
       "    }\n",
       "\n",
       "    .dataframe tbody tr th {\n",
       "        vertical-align: top;\n",
       "    }\n",
       "\n",
       "    .dataframe thead th {\n",
       "        text-align: right;\n",
       "    }\n",
       "</style>\n",
       "<table border=\"1\" class=\"dataframe\"><caption>Distinct Counts for NODES</caption>\n",
       "  <thead>\n",
       "    <tr style=\"text-align: right;\">\n",
       "      <th title=\"\"></th>\n",
       "      <th title=\"Analysis Variable\">Column</th>\n",
       "      <th title=\"Number of Distinct Values\">NDistinct</th>\n",
       "      <th title=\"Number of Missing Values\">NMiss</th>\n",
       "      <th title=\"Truncated\">Trunc</th>\n",
       "    </tr>\n",
       "  </thead>\n",
       "  <tbody>\n",
       "    <tr>\n",
       "      <th>0</th>\n",
       "      <td>_HypGrp_</td>\n",
       "      <td>13.0</td>\n",
       "      <td>0.0</td>\n",
       "      <td>0.0</td>\n",
       "    </tr>\n",
       "    <tr>\n",
       "      <th>1</th>\n",
       "      <td>_Value_</td>\n",
       "      <td>19537.0</td>\n",
       "      <td>0.0</td>\n",
       "      <td>0.0</td>\n",
       "    </tr>\n",
       "    <tr>\n",
       "      <th>2</th>\n",
       "      <td>_Index_</td>\n",
       "      <td>19537.0</td>\n",
       "      <td>0.0</td>\n",
       "      <td>0.0</td>\n",
       "    </tr>\n",
       "    <tr>\n",
       "      <th>3</th>\n",
       "      <td>_IndexH_</td>\n",
       "      <td>19500.0</td>\n",
       "      <td>0.0</td>\n",
       "      <td>0.0</td>\n",
       "    </tr>\n",
       "    <tr>\n",
       "      <th>4</th>\n",
       "      <td>_AllXCoord_</td>\n",
       "      <td>19537.0</td>\n",
       "      <td>0.0</td>\n",
       "      <td>0.0</td>\n",
       "    </tr>\n",
       "    <tr>\n",
       "      <th>5</th>\n",
       "      <td>_AllYCoord_</td>\n",
       "      <td>19537.0</td>\n",
       "      <td>0.0</td>\n",
       "      <td>0.0</td>\n",
       "    </tr>\n",
       "    <tr>\n",
       "      <th>6</th>\n",
       "      <td>_XCoord_</td>\n",
       "      <td>19515.0</td>\n",
       "      <td>0.0</td>\n",
       "      <td>0.0</td>\n",
       "    </tr>\n",
       "    <tr>\n",
       "      <th>7</th>\n",
       "      <td>_YCoord_</td>\n",
       "      <td>19515.0</td>\n",
       "      <td>0.0</td>\n",
       "      <td>0.0</td>\n",
       "    </tr>\n",
       "    <tr>\n",
       "      <th>8</th>\n",
       "      <td>_Color_</td>\n",
       "      <td>43.0</td>\n",
       "      <td>0.0</td>\n",
       "      <td>0.0</td>\n",
       "    </tr>\n",
       "    <tr>\n",
       "      <th>9</th>\n",
       "      <td>_Community_</td>\n",
       "      <td>4.0</td>\n",
       "      <td>0.0</td>\n",
       "      <td>0.0</td>\n",
       "    </tr>\n",
       "    <tr>\n",
       "      <th>10</th>\n",
       "      <td>_AllCommunity_</td>\n",
       "      <td>16.0</td>\n",
       "      <td>0.0</td>\n",
       "      <td>0.0</td>\n",
       "    </tr>\n",
       "    <tr>\n",
       "      <th>11</th>\n",
       "      <td>_Reach_</td>\n",
       "      <td>7.0</td>\n",
       "      <td>0.0</td>\n",
       "      <td>0.0</td>\n",
       "    </tr>\n",
       "    <tr>\n",
       "      <th>12</th>\n",
       "      <td>_Stress_</td>\n",
       "      <td>8426.0</td>\n",
       "      <td>0.0</td>\n",
       "      <td>0.0</td>\n",
       "    </tr>\n",
       "    <tr>\n",
       "      <th>13</th>\n",
       "      <td>_Closeness_</td>\n",
       "      <td>5162.0</td>\n",
       "      <td>0.0</td>\n",
       "      <td>0.0</td>\n",
       "    </tr>\n",
       "    <tr>\n",
       "      <th>14</th>\n",
       "      <td>_Betweenness_</td>\n",
       "      <td>8530.0</td>\n",
       "      <td>0.0</td>\n",
       "      <td>0.0</td>\n",
       "    </tr>\n",
       "    <tr>\n",
       "      <th>15</th>\n",
       "      <td>_CentroidMag_</td>\n",
       "      <td>19509.0</td>\n",
       "      <td>0.0</td>\n",
       "      <td>0.0</td>\n",
       "    </tr>\n",
       "    <tr>\n",
       "      <th>16</th>\n",
       "      <td>_CentroidAngle_</td>\n",
       "      <td>19517.0</td>\n",
       "      <td>0.0</td>\n",
       "      <td>0.0</td>\n",
       "    </tr>\n",
       "  </tbody>\n",
       "</table>\n",
       "</div>\n",
       "</div>\n",
       "<div class=\"cas-output-area\"></div>\n",
       "<p class=\"cas-results-performance\"><small><span class=\"cas-elapsed\">elapsed 0.136s</span> &#183; <span class=\"cas-user\">user 0.174s</span> &#183; <span class=\"cas-sys\">sys 0.0633s</span> &#183; <span class=\"cas-memory\">mem 39.7MB</span></small></p>"
      ],
      "text/plain": [
       "[Distinct]\n",
       "\n",
       " Distinct Counts for NODES\n",
       " \n",
       "              Column  NDistinct  NMiss  Trunc\n",
       " 0          _HypGrp_       13.0    0.0    0.0\n",
       " 1           _Value_    19537.0    0.0    0.0\n",
       " 2           _Index_    19537.0    0.0    0.0\n",
       " 3          _IndexH_    19500.0    0.0    0.0\n",
       " 4       _AllXCoord_    19537.0    0.0    0.0\n",
       " 5       _AllYCoord_    19537.0    0.0    0.0\n",
       " 6          _XCoord_    19515.0    0.0    0.0\n",
       " 7          _YCoord_    19515.0    0.0    0.0\n",
       " 8           _Color_       43.0    0.0    0.0\n",
       " 9       _Community_        4.0    0.0    0.0\n",
       " 10   _AllCommunity_       16.0    0.0    0.0\n",
       " 11          _Reach_        7.0    0.0    0.0\n",
       " 12         _Stress_     8426.0    0.0    0.0\n",
       " 13      _Closeness_     5162.0    0.0    0.0\n",
       " 14    _Betweenness_     8530.0    0.0    0.0\n",
       " 15    _CentroidMag_    19509.0    0.0    0.0\n",
       " 16  _CentroidAngle_    19517.0    0.0    0.0\n",
       "\n",
       "+ Elapsed: 0.136s, user: 0.174s, sys: 0.0633s, mem: 39.7mb"
      ]
     },
     "execution_count": 12,
     "metadata": {},
     "output_type": "execute_result"
    }
   ],
   "source": [
    "nodesOut = conn.CASTable('nodes')\n",
    "nodesOut.distinct()"
   ]
  },
  {
   "cell_type": "code",
   "execution_count": 13,
   "metadata": {},
   "outputs": [],
   "source": [
    "conn.simple.topK(\n",
    "    aggregator = \"N\",\n",
    "    topK       = 4,\n",
    "    table      = 'nodes',\n",
    "    inputs     = [\"_Community_\"],\n",
    "    casOut     = {'name':'topKOut','replace':True}\n",
    ")\n",
    "\n",
    "topKOut = conn.fetch(sortBy=[\"_Rank_\"],to=10, table={'name':'topKOut'})"
   ]
  },
  {
   "cell_type": "code",
   "execution_count": 14,
   "metadata": {},
   "outputs": [
    {
     "data": {
      "image/png": "[encoded data removed]",
      "text/plain": [
       "<Figure size 576x288 with 1 Axes>"
      ]
     },
     "metadata": {
      "needs_background": "light"
     },
     "output_type": "display_data"
    }
   ],
   "source": [
    "topKOutFetch = topKOut['Fetch']\n",
    "ind = np.arange(5)    # the x locations for the bars\n",
    "plt.figure(figsize=(8,4))\n",
    "p1 = plt.bar(ind + 0.2, topKOutFetch._Score_, 0.5, color='orange', alpha=0.75)\n",
    "\n",
    "plt.ylabel('Vertices', fontsize=12)\n",
    "plt.xlabel('Community', fontsize=12)\n",
    "plt.title('Number of nodes for the top 5 communities')\n",
    "plt.xticks(ind + 0.2, topKOutFetch._Fmtvar_)\n",
    "plt.show()"
   ]
  },
  {
   "cell_type": "code",
   "execution_count": 15,
   "metadata": {},
   "outputs": [
    {
     "data": {
      "text/html": [
       "<div class=\"cas-results-key\"><b>&#167; Fetch</b></div>\n",
       "<div class=\"cas-results-body\">\n",
       "<div>\n",
       "<style scoped>\n",
       "    .dataframe tbody tr th:only-of-type {\n",
       "        vertical-align: middle;\n",
       "    }\n",
       "\n",
       "    .dataframe tbody tr th {\n",
       "        vertical-align: top;\n",
       "    }\n",
       "\n",
       "    .dataframe thead th {\n",
       "        text-align: right;\n",
       "    }\n",
       "</style>\n",
       "<table border=\"1\" class=\"dataframe\"><caption>Selected Rows from Table NODES</caption>\n",
       "  <thead>\n",
       "    <tr style=\"text-align: right;\">\n",
       "      <th title=\"\"></th>\n",
       "      <th title=\"_HypGrp_\">_HypGrp_</th>\n",
       "      <th title=\"_Value_\">_Value_</th>\n",
       "      <th title=\"_Index_2\">_Index_2</th>\n",
       "      <th title=\"_IndexH_\">_IndexH_</th>\n",
       "      <th title=\"_AllXCoord_\">_AllXCoord_</th>\n",
       "      <th title=\"_AllYCoord_\">_AllYCoord_</th>\n",
       "      <th title=\"_XCoord_\">_XCoord_</th>\n",
       "      <th title=\"_YCoord_\">_YCoord_</th>\n",
       "      <th title=\"_Color_\">_Color_</th>\n",
       "      <th title=\"_Community_\">_Community_</th>\n",
       "      <th title=\"_AllCommunity_\">_AllCommunity_</th>\n",
       "      <th title=\"_Reach_\">_Reach_</th>\n",
       "      <th title=\"_Stress_\">_Stress_</th>\n",
       "      <th title=\"_Closeness_\">_Closeness_</th>\n",
       "      <th title=\"_Betweenness_\">_Betweenness_</th>\n",
       "      <th title=\"_CentroidMag_\">_CentroidMag_</th>\n",
       "      <th title=\"_CentroidAngle_\">_CentroidAngle_</th>\n",
       "    </tr>\n",
       "  </thead>\n",
       "  <tbody>\n",
       "    <tr>\n",
       "      <th>0</th>\n",
       "      <td>0</td>\n",
       "      <td>Comp000156</td>\n",
       "      <td>2</td>\n",
       "      <td>3667</td>\n",
       "      <td>51.717630758</td>\n",
       "      <td>47.275226832</td>\n",
       "      <td>73.220632086</td>\n",
       "      <td>42.939238312</td>\n",
       "      <td>37</td>\n",
       "      <td>1</td>\n",
       "      <td>1</td>\n",
       "      <td>7</td>\n",
       "      <td>0</td>\n",
       "      <td>0.4601663468</td>\n",
       "      <td>0</td>\n",
       "      <td>0.1359444125</td>\n",
       "      <td>105.08337192</td>\n",
       "    </tr>\n",
       "    <tr>\n",
       "      <th>1</th>\n",
       "      <td>0</td>\n",
       "      <td>Comp045395</td>\n",
       "      <td>751</td>\n",
       "      <td>3666</td>\n",
       "      <td>52.38687787</td>\n",
       "      <td>47.527483334</td>\n",
       "      <td>74.057721824</td>\n",
       "      <td>43.772578517</td>\n",
       "      <td>37</td>\n",
       "      <td>1</td>\n",
       "      <td>1</td>\n",
       "      <td>7</td>\n",
       "      <td>0</td>\n",
       "      <td>0.4601663468</td>\n",
       "      <td>0</td>\n",
       "      <td>0.1220121265</td>\n",
       "      <td>103.5212848</td>\n",
       "    </tr>\n",
       "    <tr>\n",
       "      <th>2</th>\n",
       "      <td>0</td>\n",
       "      <td>Comp062786</td>\n",
       "      <td>1026</td>\n",
       "      <td>3665</td>\n",
       "      <td>47.375643647</td>\n",
       "      <td>59.144960111</td>\n",
       "      <td>58.203202679</td>\n",
       "      <td>46.680936943</td>\n",
       "      <td>37</td>\n",
       "      <td>1</td>\n",
       "      <td>1</td>\n",
       "      <td>7</td>\n",
       "      <td>0.0021737253</td>\n",
       "      <td>0.4959564939</td>\n",
       "      <td>0.0058007013</td>\n",
       "      <td>0.4924120852</td>\n",
       "      <td>105.87311514</td>\n",
       "    </tr>\n",
       "    <tr>\n",
       "      <th>3</th>\n",
       "      <td>0</td>\n",
       "      <td>Comp092552</td>\n",
       "      <td>1519</td>\n",
       "      <td>3664</td>\n",
       "      <td>52.148657038</td>\n",
       "      <td>47.899405108</td>\n",
       "      <td>74.826694467</td>\n",
       "      <td>41.931841743</td>\n",
       "      <td>37</td>\n",
       "      <td>1</td>\n",
       "      <td>1</td>\n",
       "      <td>7</td>\n",
       "      <td>0</td>\n",
       "      <td>0.4601663468</td>\n",
       "      <td>0</td>\n",
       "      <td>0.0940817292</td>\n",
       "      <td>105.90367513</td>\n",
       "    </tr>\n",
       "    <tr>\n",
       "      <th>4</th>\n",
       "      <td>0</td>\n",
       "      <td>Comp106398</td>\n",
       "      <td>1754</td>\n",
       "      <td>3663</td>\n",
       "      <td>51.106415475</td>\n",
       "      <td>47.441569561</td>\n",
       "      <td>74.313184189</td>\n",
       "      <td>43.749078982</td>\n",
       "      <td>37</td>\n",
       "      <td>1</td>\n",
       "      <td>1</td>\n",
       "      <td>7</td>\n",
       "      <td>0</td>\n",
       "      <td>0.4601663468</td>\n",
       "      <td>0</td>\n",
       "      <td>0.1161631622</td>\n",
       "      <td>103.46498258</td>\n",
       "    </tr>\n",
       "  </tbody>\n",
       "</table>\n",
       "</div>\n",
       "</div>\n",
       "<div class=\"cas-output-area\"></div>\n",
       "<p class=\"cas-results-performance\"><small><span class=\"cas-elapsed\">elapsed 0.00365s</span> &#183; <span class=\"cas-user\">user 0.00285s</span> &#183; <span class=\"cas-sys\">sys 0.000735s</span> &#183; <span class=\"cas-memory\">mem 1.17MB</span></small></p>"
      ],
      "text/plain": [
       "[Fetch]\n",
       "\n",
       " Selected Rows from Table NODES\n",
       " \n",
       "        _HypGrp_     _Value_      _Index_2      _IndexH_   _AllXCoord_  \\\n",
       " 0             0  Comp000156             2          3667  51.717630758   \n",
       " 1             0  Comp045395           751          3666   52.38687787   \n",
       " 2             0  Comp062786          1026          3665  47.375643647   \n",
       " 3             0  Comp092552          1519          3664  52.148657038   \n",
       " 4             0  Comp106398          1754          3663  51.106415475   \n",
       " \n",
       "     _AllYCoord_      _XCoord_      _YCoord_       _Color_   _Community_  \\\n",
       " 0  47.275226832  73.220632086  42.939238312            37             1   \n",
       " 1  47.527483334  74.057721824  43.772578517            37             1   \n",
       " 2  59.144960111  58.203202679  46.680936943            37             1   \n",
       " 3  47.899405108  74.826694467  41.931841743            37             1   \n",
       " 4  47.441569561  74.313184189  43.749078982            37             1   \n",
       " \n",
       "   _AllCommunity_       _Reach_      _Stress_   _Closeness_ _Betweenness_  \\\n",
       " 0              1             7             0  0.4601663468             0   \n",
       " 1              1             7             0  0.4601663468             0   \n",
       " 2              1             7  0.0021737253  0.4959564939  0.0058007013   \n",
       " 3              1             7             0  0.4601663468             0   \n",
       " 4              1             7             0  0.4601663468             0   \n",
       " \n",
       "   _CentroidMag_ _CentroidAngle_  \n",
       " 0  0.1359444125    105.08337192  \n",
       " 1  0.1220121265     103.5212848  \n",
       " 2  0.4924120852    105.87311514  \n",
       " 3  0.0940817292    105.90367513  \n",
       " 4  0.1161631622    103.46498258  \n",
       "\n",
       "+ Elapsed: 0.00365s, user: 0.00285s, sys: 0.000735s, mem: 1.17mb"
      ]
     },
     "execution_count": 15,
     "metadata": {},
     "output_type": "execute_result"
    }
   ],
   "source": [
    "nodesOut = conn.CASTable('nodes', where=\"_Community_ EQ 1\")\n",
    "nodesOut.fetch(to=5, sastypes=False, format=True)"
   ]
  },
  {
   "cell_type": "code",
   "execution_count": null,
   "metadata": {},
   "outputs": [],
   "source": [
    "conn.close()"
   ]
  },
  {
   "cell_type": "code",
   "execution_count": null,
   "metadata": {},
   "outputs": [],
   "source": []
  }
 ],
 "metadata": {
  "kernelspec": {
   "display_name": "Python 3",
   "language": "python",
   "name": "python3"
  },
  "language_info": {
   "codemirror_mode": {
    "name": "ipython",
    "version": 3
   },
   "file_extension": ".py",
   "mimetype": "text/x-python",
   "name": "python",
   "nbconvert_exporter": "python",
   "pygments_lexer": "ipython3",
   "version": "3.7.2"
  }
 },
 "nbformat": 4,
 "nbformat_minor": 2
}
