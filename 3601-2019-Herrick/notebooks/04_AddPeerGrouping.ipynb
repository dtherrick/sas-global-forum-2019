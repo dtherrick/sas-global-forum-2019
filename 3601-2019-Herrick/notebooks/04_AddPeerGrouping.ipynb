{
 "cells": [
  {
   "cell_type": "code",
   "execution_count": 1,
   "metadata": {},
   "outputs": [],
   "source": [
    "import warnings\n",
    "warnings.filterwarnings('ignore')\n",
    "\n",
    "import os\n",
    "import swat\n",
    "import matplotlib.pyplot as plt\n",
    "import numpy as np\n",
    "\n",
    "%matplotlib inline"
   ]
  },
  {
   "cell_type": "code",
   "execution_count": 2,
   "metadata": {},
   "outputs": [],
   "source": [
    "os.environ[\"CAS_CLIENT_SSL_CA_LIST\"]=\"/home/ds/cascert.pem\"\n",
    "\n",
    "conn = swat.CAS(\"d-crd-datasci01big.dev.cyber.sas.com\", 5570)"
   ]
  },
  {
   "cell_type": "code",
   "execution_count": 3,
   "metadata": {},
   "outputs": [
    {
     "data": {
      "text/html": [
       "<div class=\"cas-output-area\"></div>\n",
       "<p class=\"cas-results-performance\"><small><span class=\"cas-elapsed\">elapsed 0.000342s</span> &#183; <span class=\"cas-user\">user 0.000109s</span> &#183; <span class=\"cas-sys\">sys 0.000193s</span> &#183; <span class=\"cas-memory\">mem 0.225MB</span></small></p>"
      ],
      "text/plain": [
       "+ Elapsed: 0.000342s, user: 0.000109s, sys: 0.000193s, mem: 0.225mb"
      ]
     },
     "execution_count": 3,
     "metadata": {},
     "output_type": "execute_result"
    }
   ],
   "source": [
    "conn.setsessopt('WH')"
   ]
  },
  {
   "cell_type": "code",
   "execution_count": 4,
   "metadata": {},
   "outputs": [
    {
     "name": "stdout",
     "output_type": "stream",
     "text": [
      "NOTE: Cloud Analytic Services made the file wls_day_02_hr13.sashdat available as table WLS_DAY_02_HR13 in caslib CASUSER(daherr).\n"
     ]
    }
   ],
   "source": [
    "out = conn.loadtable('wls_day_02_hr13.sashdat', caslib='WH')"
   ]
  },
  {
   "cell_type": "code",
   "execution_count": 5,
   "metadata": {},
   "outputs": [],
   "source": [
    "hostData = conn.CASTable('wls_day_02_hr13')"
   ]
  },
  {
   "cell_type": "code",
   "execution_count": 6,
   "metadata": {},
   "outputs": [
    {
     "data": {
      "text/html": [
       "<div class=\"cas-results-key\"><b>&#167; Distinct</b></div>\n",
       "<div class=\"cas-results-body\">\n",
       "<div>\n",
       "<style scoped>\n",
       "    .dataframe tbody tr th:only-of-type {\n",
       "        vertical-align: middle;\n",
       "    }\n",
       "\n",
       "    .dataframe tbody tr th {\n",
       "        vertical-align: top;\n",
       "    }\n",
       "\n",
       "    .dataframe thead th {\n",
       "        text-align: right;\n",
       "    }\n",
       "</style>\n",
       "<table border=\"1\" class=\"dataframe\"><caption>Distinct Counts for WLS_DAY_02_HR13</caption>\n",
       "  <thead>\n",
       "    <tr style=\"text-align: right;\">\n",
       "      <th title=\"\"></th>\n",
       "      <th title=\"Analysis Variable\">Column</th>\n",
       "      <th title=\"Number of Distinct Values\">NDistinct</th>\n",
       "      <th title=\"Number of Missing Values\">NMiss</th>\n",
       "      <th title=\"Truncated\">Trunc</th>\n",
       "    </tr>\n",
       "  </thead>\n",
       "  <tbody>\n",
       "    <tr>\n",
       "      <th>0</th>\n",
       "      <td>AuthenticationPackage</td>\n",
       "      <td>6.0</td>\n",
       "      <td>232670.0</td>\n",
       "      <td>0.0</td>\n",
       "    </tr>\n",
       "    <tr>\n",
       "      <th>1</th>\n",
       "      <td>Destination</td>\n",
       "      <td>321.0</td>\n",
       "      <td>349487.0</td>\n",
       "      <td>0.0</td>\n",
       "    </tr>\n",
       "    <tr>\n",
       "      <th>2</th>\n",
       "      <td>DomainName</td>\n",
       "      <td>82.0</td>\n",
       "      <td>14.0</td>\n",
       "      <td>0.0</td>\n",
       "    </tr>\n",
       "    <tr>\n",
       "      <th>3</th>\n",
       "      <td>EventID</td>\n",
       "      <td>18.0</td>\n",
       "      <td>0.0</td>\n",
       "      <td>0.0</td>\n",
       "    </tr>\n",
       "    <tr>\n",
       "      <th>4</th>\n",
       "      <td>FailureReason</td>\n",
       "      <td>7.0</td>\n",
       "      <td>353231.0</td>\n",
       "      <td>0.0</td>\n",
       "    </tr>\n",
       "    <tr>\n",
       "      <th>5</th>\n",
       "      <td>LogHost</td>\n",
       "      <td>9408.0</td>\n",
       "      <td>0.0</td>\n",
       "      <td>0.0</td>\n",
       "    </tr>\n",
       "    <tr>\n",
       "      <th>6</th>\n",
       "      <td>LogonID</td>\n",
       "      <td>198999.0</td>\n",
       "      <td>49030.0</td>\n",
       "      <td>0.0</td>\n",
       "    </tr>\n",
       "    <tr>\n",
       "      <th>7</th>\n",
       "      <td>LogonType</td>\n",
       "      <td>11.0</td>\n",
       "      <td>177367.0</td>\n",
       "      <td>0.0</td>\n",
       "    </tr>\n",
       "    <tr>\n",
       "      <th>8</th>\n",
       "      <td>LogonTypeDescription</td>\n",
       "      <td>11.0</td>\n",
       "      <td>177367.0</td>\n",
       "      <td>0.0</td>\n",
       "    </tr>\n",
       "    <tr>\n",
       "      <th>9</th>\n",
       "      <td>ParentProcessID</td>\n",
       "      <td>4762.0</td>\n",
       "      <td>262043.0</td>\n",
       "      <td>0.0</td>\n",
       "    </tr>\n",
       "    <tr>\n",
       "      <th>10</th>\n",
       "      <td>ParentProcessName</td>\n",
       "      <td>454.0</td>\n",
       "      <td>262043.0</td>\n",
       "      <td>0.0</td>\n",
       "    </tr>\n",
       "    <tr>\n",
       "      <th>11</th>\n",
       "      <td>ProcessID</td>\n",
       "      <td>9219.0</td>\n",
       "      <td>251247.0</td>\n",
       "      <td>0.0</td>\n",
       "    </tr>\n",
       "    <tr>\n",
       "      <th>12</th>\n",
       "      <td>ProcessName</td>\n",
       "      <td>928.0</td>\n",
       "      <td>251247.0</td>\n",
       "      <td>0.0</td>\n",
       "    </tr>\n",
       "    <tr>\n",
       "      <th>13</th>\n",
       "      <td>ServiceName</td>\n",
       "      <td>1506.0</td>\n",
       "      <td>342347.0</td>\n",
       "      <td>0.0</td>\n",
       "    </tr>\n",
       "    <tr>\n",
       "      <th>14</th>\n",
       "      <td>Source</td>\n",
       "      <td>9547.0</td>\n",
       "      <td>237860.0</td>\n",
       "      <td>0.0</td>\n",
       "    </tr>\n",
       "    <tr>\n",
       "      <th>15</th>\n",
       "      <td>Status</td>\n",
       "      <td>7.0</td>\n",
       "      <td>306641.0</td>\n",
       "      <td>0.0</td>\n",
       "    </tr>\n",
       "    <tr>\n",
       "      <th>16</th>\n",
       "      <td>SubjectDomainName</td>\n",
       "      <td>23.0</td>\n",
       "      <td>349256.0</td>\n",
       "      <td>0.0</td>\n",
       "    </tr>\n",
       "    <tr>\n",
       "      <th>17</th>\n",
       "      <td>SubjectLogonID</td>\n",
       "      <td>369.0</td>\n",
       "      <td>349440.0</td>\n",
       "      <td>0.0</td>\n",
       "    </tr>\n",
       "    <tr>\n",
       "      <th>18</th>\n",
       "      <td>SubjectUserName</td>\n",
       "      <td>1390.0</td>\n",
       "      <td>349256.0</td>\n",
       "      <td>0.0</td>\n",
       "    </tr>\n",
       "    <tr>\n",
       "      <th>19</th>\n",
       "      <td>Time</td>\n",
       "      <td>3600.0</td>\n",
       "      <td>0.0</td>\n",
       "      <td>0.0</td>\n",
       "    </tr>\n",
       "    <tr>\n",
       "      <th>20</th>\n",
       "      <td>UserName</td>\n",
       "      <td>17981.0</td>\n",
       "      <td>14.0</td>\n",
       "      <td>0.0</td>\n",
       "    </tr>\n",
       "    <tr>\n",
       "      <th>21</th>\n",
       "      <td>occurredTime</td>\n",
       "      <td>3600.0</td>\n",
       "      <td>0.0</td>\n",
       "      <td>0.0</td>\n",
       "    </tr>\n",
       "  </tbody>\n",
       "</table>\n",
       "</div>\n",
       "</div>\n",
       "<div class=\"cas-output-area\"></div>\n",
       "<p class=\"cas-results-performance\"><small><span class=\"cas-elapsed\">elapsed 0.356s</span> &#183; <span class=\"cas-user\">user 1.66s</span> &#183; <span class=\"cas-sys\">sys 0.384s</span> &#183; <span class=\"cas-memory\">mem 112MB</span></small></p>"
      ],
      "text/plain": [
       "[Distinct]\n",
       "\n",
       " Distinct Counts for WLS_DAY_02_HR13\n",
       " \n",
       "                    Column  NDistinct     NMiss  Trunc\n",
       " 0   AuthenticationPackage        6.0  232670.0    0.0\n",
       " 1             Destination      321.0  349487.0    0.0\n",
       " 2              DomainName       82.0      14.0    0.0\n",
       " 3                 EventID       18.0       0.0    0.0\n",
       " 4           FailureReason        7.0  353231.0    0.0\n",
       " 5                 LogHost     9408.0       0.0    0.0\n",
       " 6                 LogonID   198999.0   49030.0    0.0\n",
       " 7               LogonType       11.0  177367.0    0.0\n",
       " 8    LogonTypeDescription       11.0  177367.0    0.0\n",
       " 9         ParentProcessID     4762.0  262043.0    0.0\n",
       " 10      ParentProcessName      454.0  262043.0    0.0\n",
       " 11              ProcessID     9219.0  251247.0    0.0\n",
       " 12            ProcessName      928.0  251247.0    0.0\n",
       " 13            ServiceName     1506.0  342347.0    0.0\n",
       " 14                 Source     9547.0  237860.0    0.0\n",
       " 15                 Status        7.0  306641.0    0.0\n",
       " 16      SubjectDomainName       23.0  349256.0    0.0\n",
       " 17         SubjectLogonID      369.0  349440.0    0.0\n",
       " 18        SubjectUserName     1390.0  349256.0    0.0\n",
       " 19                   Time     3600.0       0.0    0.0\n",
       " 20               UserName    17981.0      14.0    0.0\n",
       " 21           occurredTime     3600.0       0.0    0.0\n",
       "\n",
       "+ Elapsed: 0.356s, user: 1.66s, sys: 0.384s, mem: 112mb"
      ]
     },
     "execution_count": 6,
     "metadata": {},
     "output_type": "execute_result"
    }
   ],
   "source": [
    "hostData.distinct()"
   ]
  },
  {
   "cell_type": "code",
   "execution_count": 7,
   "metadata": {},
   "outputs": [],
   "source": [
    "filledUsers = hostData[~hostData.UserName.isNull()]"
   ]
  },
  {
   "cell_type": "code",
   "execution_count": 8,
   "metadata": {},
   "outputs": [
    {
     "data": {
      "text/plain": [
       "354724"
      ]
     },
     "execution_count": 8,
     "metadata": {},
     "output_type": "execute_result"
    }
   ],
   "source": [
    "len(filledUsers)"
   ]
  },
  {
   "cell_type": "code",
   "execution_count": 9,
   "metadata": {},
   "outputs": [
    {
     "data": {
      "text/plain": [
       "354738"
      ]
     },
     "execution_count": 9,
     "metadata": {},
     "output_type": "execute_result"
    }
   ],
   "source": [
    "len(hostData)"
   ]
  },
  {
   "cell_type": "code",
   "execution_count": 10,
   "metadata": {},
   "outputs": [
    {
     "data": {
      "text/plain": [
       "Comp916004$             45361\n",
       "AppService              20579\n",
       "Scanner                 17644\n",
       "Administrator           14593\n",
       "Comp955498$             11719\n",
       "ActiveDirectory$         4207\n",
       "User927159               3556\n",
       "Anonymous                2815\n",
       "EnterpriseAppServer$     2662\n",
       "User378309               2660\n",
       "Comp897367$              2499\n",
       "Comp755918$              2482\n",
       "system                   2417\n",
       "Comp915658$              2158\n",
       "User643724               2129\n",
       "local service            1703\n",
       "User793535               1481\n",
       "User367097               1461\n",
       "winservice               1176\n",
       "Comp939275$              1108\n",
       "User553543                970\n",
       "User562973                902\n",
       "Comp209924$               752\n",
       "Comp312333$               712\n",
       "User977655                647\n",
       "Comp065845$               639\n",
       "User109559                484\n",
       "Comp546675$               459\n",
       "Comp621314$               456\n",
       "User318330                454\n",
       "                        ...  \n",
       "User672868                  1\n",
       "Comp663829$                 1\n",
       "User209025                  1\n",
       "Comp266967$                 1\n",
       "User669948                  1\n",
       "User675180                  1\n",
       "User675723                  1\n",
       "User030433                  1\n",
       "User883812                  1\n",
       "User206643                  1\n",
       "User677510                  1\n",
       "User670195                  1\n",
       "User029094                  1\n",
       "User217400                  1\n",
       "User888408                  1\n",
       "User664782                  1\n",
       "Comp090304$                 1\n",
       "User216551                  1\n",
       "User216316                  1\n",
       "User216183                  1\n",
       "User216083                  1\n",
       "User887998                  1\n",
       "User669165                  1\n",
       "User887933                  1\n",
       "User666740                  1\n",
       "Comp274690$                 1\n",
       "Comp659662$                 1\n",
       "User667644                  1\n",
       "User668687                  1\n",
       "User421463                  1\n",
       "Length: 17980, dtype: int64"
      ]
     },
     "execution_count": 10,
     "metadata": {},
     "output_type": "execute_result"
    }
   ],
   "source": [
    "filledUsers.UserName.value_counts()"
   ]
  },
  {
   "cell_type": "code",
   "execution_count": 11,
   "metadata": {},
   "outputs": [],
   "source": [
    "filledUsers['CmpGroup'] = ''"
   ]
  },
  {
   "cell_type": "code",
   "execution_count": 14,
   "metadata": {},
   "outputs": [],
   "source": [
    "systemUsers = filledUsers[filledUsers.UserName.str.contains('$')]"
   ]
  },
  {
   "cell_type": "code",
   "execution_count": 16,
   "metadata": {},
   "outputs": [
    {
     "data": {
      "text/plain": [
       "Comp916004$             45361\n",
       "AppService              20579\n",
       "Scanner                 17644\n",
       "Administrator           14593\n",
       "Comp955498$             11719\n",
       "ActiveDirectory$         4207\n",
       "User927159               3556\n",
       "Anonymous                2815\n",
       "EnterpriseAppServer$     2662\n",
       "User378309               2660\n",
       "Comp897367$              2499\n",
       "Comp755918$              2482\n",
       "system                   2417\n",
       "Comp915658$              2158\n",
       "User643724               2129\n",
       "local service            1703\n",
       "User793535               1481\n",
       "User367097               1461\n",
       "winservice               1176\n",
       "Comp939275$              1108\n",
       "User553543                970\n",
       "User562973                902\n",
       "Comp209924$               752\n",
       "Comp312333$               712\n",
       "User977655                647\n",
       "Comp065845$               639\n",
       "User109559                484\n",
       "Comp546675$               459\n",
       "Comp621314$               456\n",
       "User318330                454\n",
       "                        ...  \n",
       "User672868                  1\n",
       "Comp663829$                 1\n",
       "User209025                  1\n",
       "Comp266967$                 1\n",
       "User669948                  1\n",
       "User675180                  1\n",
       "User675723                  1\n",
       "User030433                  1\n",
       "User883812                  1\n",
       "User206643                  1\n",
       "User677510                  1\n",
       "User670195                  1\n",
       "User029094                  1\n",
       "User217400                  1\n",
       "User888408                  1\n",
       "User664782                  1\n",
       "Comp090304$                 1\n",
       "User216551                  1\n",
       "User216316                  1\n",
       "User216183                  1\n",
       "User216083                  1\n",
       "User887998                  1\n",
       "User669165                  1\n",
       "User887933                  1\n",
       "User666740                  1\n",
       "Comp274690$                 1\n",
       "Comp659662$                 1\n",
       "User667644                  1\n",
       "User668687                  1\n",
       "User421463                  1\n",
       "Length: 17980, dtype: int64"
      ]
     },
     "execution_count": 16,
     "metadata": {},
     "output_type": "execute_result"
    }
   ],
   "source": [
    "systemUsers.UserName.value_counts()"
   ]
  },
  {
   "cell_type": "code",
   "execution_count": null,
   "metadata": {},
   "outputs": [],
   "source": []
  },
  {
   "cell_type": "code",
   "execution_count": null,
   "metadata": {},
   "outputs": [],
   "source": []
  },
  {
   "cell_type": "code",
   "execution_count": null,
   "metadata": {},
   "outputs": [],
   "source": []
  },
  {
   "cell_type": "code",
   "execution_count": null,
   "metadata": {},
   "outputs": [],
   "source": [
    "y_pos = np.arange(20)\n",
    "\n",
    "plt.figure(figsize=(20,5))\n",
    "plt.bar(y_pos, failedUsers.FAILURES.values[:20], align='center', alpha=0.5)\n",
    "plt.xticks(y_pos, failedUsers.UserName.values[:20], rotation=45)\n",
    "plt.ylabel('Failed Login Attempts')\n",
    "plt.title('Top 20 Login Failures By Username')\n",
    "plt.savefig('loginFailures.png', bbox_inches='tight')\n",
    "\n",
    "plt.show()"
   ]
  },
  {
   "cell_type": "code",
   "execution_count": null,
   "metadata": {},
   "outputs": [],
   "source": [
    "conn.close()"
   ]
  },
  {
   "cell_type": "code",
   "execution_count": null,
   "metadata": {},
   "outputs": [],
   "source": []
  }
 ],
 "metadata": {
  "kernelspec": {
   "display_name": "Python 3",
   "language": "python",
   "name": "python3"
  },
  "language_info": {
   "codemirror_mode": {
    "name": "ipython",
    "version": 3
   },
   "file_extension": ".py",
   "mimetype": "text/x-python",
   "name": "python",
   "nbconvert_exporter": "python",
   "pygments_lexer": "ipython3",
   "version": "3.7.2"
  }
 },
 "nbformat": 4,
 "nbformat_minor": 2
}
